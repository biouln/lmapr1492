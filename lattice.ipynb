{
 "cells": [
  {
   "cell_type": "code",
   "execution_count": 26,
   "metadata": {},
   "outputs": [
    {
     "name": "stdout",
     "output_type": "stream",
     "text": [
      "Full Formula (He2)\n",
      "Reduced Formula: He\n",
      "abc   :   2.732697   2.732697   4.449274\n",
      "angles:  90.000000  90.000000 120.000018\n",
      "Sites (2)\n",
      "  #  SP           a         b     c    magmom\n",
      "---  ----  --------  --------  ----  --------\n",
      "  0  He    0.333333  0.666667  0.25        -0\n",
      "  1  He    0.666667  0.333333  0.75        -0\n",
      "\n",
      "\n",
      "Cell Type : hexagonal\n",
      "\n",
      "\n",
      "Lattice system: hexagonal\n",
      "\n",
      "\n",
      "Point Group: 6/mmm\n",
      "\n",
      "\n"
     ]
    }
   ],
   "source": [
    "from pymatgen.ext.matproj import MPRester\n",
    "from pymatgen.io.cif import CifWriter\n",
    "from pymatgen.symmetry.analyzer import SpacegroupAnalyzer\n",
    "\n",
    "with MPRester(\"tA2HQFkWnG7wRPHf\") as mp:\n",
    "    # Create a structure for material id mp-1115 (PtSe2)\n",
    "    structure = mp.get_structure_by_material_id(\"mp-23156\")\n",
    "    print(structure)\n",
    "    \n",
    "\n",
    "w = CifWriter(structure, symprec=0.1)\n",
    "w.write_file(\"SrCl2_mp-23209.cif\")\n",
    "\n",
    "#retrieving direct(D) and reciprocal (R) lattices\n",
    "\n",
    "lattice_D = structure.lattice\n",
    "lattice_R= lattice_D.reciprocal_lattice\n",
    "print(\"\\n\")\n",
    "lattice_t = SpacegroupAnalyzer(structure).get_lattice_type()\n",
    "print(\"Cell Type :\",lattice_t[:])\n",
    "print(\"\\n\")\n",
    "system = SpacegroupAnalyzer(structure).get_crystal_system()\n",
    "print(\"Lattice system:\",system[:])\n",
    "print(\"\\n\")\n",
    "point = SpacegroupAnalyzer(structure).get_point_group_symbol()\n",
    "print(\"Point Group:\",point)\n",
    "print(\"\\n\")"
   ]
  },
  {
   "cell_type": "code",
   "execution_count": 27,
   "metadata": {},
   "outputs": [
    {
     "name": "stdout",
     "output_type": "stream",
     "text": [
      "\n",
      "Data concerning the direct lattice\n",
      "\n",
      "a: [ 1.366348 -2.366585  0.      ]\n",
      "b: [1.366348 2.366585 0.      ]\n",
      "c: [0.       0.       4.449274]\n",
      "\n",
      "Length of a: 2.732696730215228\n",
      "Length of b: 2.732696730215228\n",
      "Length of c: 4.449274\n",
      "\n",
      "Angle alpha: 90.0\n",
      "Angle beta: 90.0\n",
      "Angle gamma: 120.00001767874495\n"
     ]
    }
   ],
   "source": [
    "#Base vectors in direct latice\n",
    "print(\"\\nData concerning the direct lattice\")\n",
    "\n",
    "base_vectors_D = lattice_D.matrix\n",
    "print(\"\\na:\", base_vectors_D[0])\n",
    "print(\"b:\", base_vectors_D[1])\n",
    "print(\"c:\", base_vectors_D[2])\n",
    "\n",
    "base_lengths_D = lattice_D.abc\n",
    "print(\"\\nLength of a:\", base_lengths_D[0])\n",
    "print(\"Length of b:\", base_lengths_D[1])\n",
    "print(\"Length of c:\", base_lengths_D[2])\n",
    "\n",
    "base_angles_D= lattice_D.angles\n",
    "print(\"\\nAngle alpha:\", base_angles_D[0])\n",
    "print(\"Angle beta:\", base_angles_D[1])\n",
    "print(\"Angle gamma:\", base_angles_D[2])"
   ]
  },
  {
   "cell_type": "code",
   "execution_count": 28,
   "metadata": {},
   "outputs": [
    {
     "name": "stdout",
     "output_type": "stream",
     "text": [
      "\n",
      "Data concerning the reciprocal lattice\n",
      "\n",
      "a*: [ 2.29926245 -1.32747932  0.        ]\n",
      "b*: [2.29926245 1.32747932 0.        ]\n",
      "c*: [0.         0.         1.41218215]\n",
      "\n",
      "Length of a*: 2.654959355415522\n",
      "Length of b*: 2.654959355415522\n",
      "Length of c*: 1.4121821463860365\n",
      "\n",
      "Angle alpha*: 90.0\n",
      "Angle beta*: 90.0\n",
      "Angle gamma*: 59.99998232125505\n"
     ]
    }
   ],
   "source": [
    "#Base vectors in reciprocal latice\n",
    "print(\"\\nData concerning the reciprocal lattice\")\n",
    "\n",
    "base_vectors_R = lattice_R.matrix\n",
    "print(\"\\na*:\", base_vectors_R[0])\n",
    "print(\"b*:\", base_vectors_R[1])\n",
    "print(\"c*:\", base_vectors_R[2])\n",
    "\n",
    "base_lengths_R = lattice_R.abc\n",
    "print(\"\\nLength of a*:\", base_lengths_R[0])\n",
    "print(\"Length of b*:\", base_lengths_R[1])\n",
    "print(\"Length of c*:\", base_lengths_R[2])\n",
    "\n",
    "base_angles_R = lattice_R.angles\n",
    "print(\"\\nAngle alpha*:\", base_angles_R[0])\n",
    "print(\"Angle beta*:\", base_angles_R[1])\n",
    "print(\"Angle gamma*:\", base_angles_R[2])"
   ]
  },
  {
   "cell_type": "code",
   "execution_count": null,
   "metadata": {},
   "outputs": [],
   "source": []
  }
 ],
 "metadata": {
  "kernelspec": {
   "display_name": "Python 3",
   "language": "python",
   "name": "python3"
  },
  "language_info": {
   "codemirror_mode": {
    "name": "ipython",
    "version": 3
   },
   "file_extension": ".py",
   "mimetype": "text/x-python",
   "name": "python",
   "nbconvert_exporter": "python",
   "pygments_lexer": "ipython3",
   "version": "3.6.8"
  }
 },
 "nbformat": 4,
 "nbformat_minor": 2
}
