{
 "cells": [
  {
   "cell_type": "code",
   "execution_count": 2,
   "metadata": {},
   "outputs": [
    {
     "name": "stdout",
     "output_type": "stream",
     "text": [
      "Full Formula (He2)\n",
      "Reduced Formula: He\n",
      "abc   :   2.732697   2.732697   4.449274\n",
      "angles:  90.000000  90.000000 120.000018\n",
      "Sites (2)\n",
      "  #  SP           a         b     c    magmom\n",
      "---  ----  --------  --------  ----  --------\n",
      "  0  He    0.333333  0.666667  0.25        -0\n",
      "  1  He    0.666667  0.333333  0.75        -0\n"
     ]
    }
   ],
   "source": [
    "from pymatgen.ext.matproj import MPRester\n",
    "from pymatgen.io.cif import CifWriter\n",
    "\n",
    "with MPRester(\"tA2HQFkWnG7wRPHf\") as mp:\n",
    "    # Create a structure for material id mp-23156 (He)\n",
    "    structure = mp.get_structure_by_material_id(\"mp-23156\")\n",
    "    print(structure)\n",
    "    \n",
    "\n",
    "w = CifWriter(structure, symprec=0.1)\n",
    "w.write_file(\"He_mp-23156.cif\")"
   ]
  },
  {
   "cell_type": "code",
   "execution_count": null,
   "metadata": {},
   "outputs": [],
   "source": []
  },
  {
   "cell_type": "code",
   "execution_count": null,
   "metadata": {},
   "outputs": [],
   "source": []
  }
 ],
 "metadata": {
  "kernelspec": {
   "display_name": "Python 3",
   "language": "python",
   "name": "python3"
  },
  "language_info": {
   "codemirror_mode": {
    "name": "ipython",
    "version": 3
   },
   "file_extension": ".py",
   "mimetype": "text/x-python",
   "name": "python",
   "nbconvert_exporter": "python",
   "pygments_lexer": "ipython3",
   "version": "3.6.8"
  }
 },
 "nbformat": 4,
 "nbformat_minor": 2
}
